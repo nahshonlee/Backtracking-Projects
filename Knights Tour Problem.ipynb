{
 "cells": [
  {
   "cell_type": "code",
   "execution_count": 137,
   "metadata": {},
   "outputs": [],
   "source": [
    "import random"
   ]
  },
  {
   "cell_type": "code",
   "execution_count": 227,
   "metadata": {},
   "outputs": [],
   "source": [
    "x = 6 # no. of columns\n",
    "y = 5 # no. of rows\n",
    "start_x = random.randint(0, x-1)\n",
    "start_y = random.randint(0, y-1)"
   ]
  },
  {
   "cell_type": "code",
   "execution_count": 228,
   "metadata": {},
   "outputs": [],
   "source": [
    "board = [[-1 for i in range(x)] for i in range(y)]"
   ]
  },
  {
   "cell_type": "code",
   "execution_count": 229,
   "metadata": {},
   "outputs": [
    {
     "name": "stdout",
     "output_type": "stream",
     "text": [
      "6 1 5 4\n"
     ]
    }
   ],
   "source": [
    "print(x, start_x, y, start_y)"
   ]
  },
  {
   "cell_type": "code",
   "execution_count": 223,
   "metadata": {},
   "outputs": [],
   "source": [
    "def print_chessboard(board):\n",
    "    for j in range(y):\n",
    "        for i in range(x):\n",
    "            if i == x - 1:\n",
    "                print('{:>2}'.format(board[j][i]))\n",
    "            else:\n",
    "                print('{:>2}'.format(board[j][i]), end = \" \")"
   ]
  },
  {
   "cell_type": "code",
   "execution_count": 224,
   "metadata": {},
   "outputs": [
    {
     "name": "stdout",
     "output_type": "stream",
     "text": [
      "-1 -1 -1 -1 -1\n",
      "-1 -1 -1 -1 -1\n",
      "-1 -1 -1 -1 -1\n",
      "-1 -1 -1 -1 -1\n",
      "-1 -1 -1 -1 -1\n"
     ]
    }
   ],
   "source": [
    "print_chessboard(board)"
   ]
  },
  {
   "cell_type": "code",
   "execution_count": 217,
   "metadata": {},
   "outputs": [],
   "source": [
    "def solve_knight(board, curr_x, curr_y, move):\n",
    "    # Initializing\n",
    "    if move == 0:\n",
    "        board[curr_y][curr_x] = 0\n",
    "        move += 1\n",
    "    \n",
    "    if move == x * y:\n",
    "        return True\n",
    "    \n",
    "    move_x = [2, 1, -1, -2, -2, -1, 1, 2]\n",
    "    move_y = [1, 2, 2, 1, -1, -2, -2, -1]\n",
    "    \n",
    "    for i, j in zip(move_x, move_y):\n",
    "        end_x = curr_x + i\n",
    "        end_y = curr_y + j\n",
    "        \n",
    "        if end_x >= 0 and end_y >= 0 and end_x < x and end_y < y and board[end_y][end_x] == -1:\n",
    "            board[end_y][end_x] = move\n",
    "            move += 1\n",
    "            \n",
    "            if solve_knight(board, end_x, end_y, move):\n",
    "                return True\n",
    "            \n",
    "            board[end_y][end_x] = -1\n",
    "            move -= 1\n",
    "        \n",
    "    return False"
   ]
  },
  {
   "cell_type": "code",
   "execution_count": 230,
   "metadata": {},
   "outputs": [
    {
     "data": {
      "text/plain": [
       "True"
      ]
     },
     "execution_count": 230,
     "metadata": {},
     "output_type": "execute_result"
    }
   ],
   "source": [
    "solve_knight(board, start_x, start_y, 0)"
   ]
  },
  {
   "cell_type": "code",
   "execution_count": 231,
   "metadata": {},
   "outputs": [
    {
     "name": "stdout",
     "output_type": "stream",
     "text": [
      "29 12 23  8 27 14\n",
      "22  7 28 13 18  9\n",
      " 1  4 11 24 15 26\n",
      " 6 21  2 17 10 19\n",
      " 3  0  5 20 25 16\n"
     ]
    }
   ],
   "source": [
    "print_chessboard(board)"
   ]
  },
  {
   "cell_type": "code",
   "execution_count": 156,
   "metadata": {},
   "outputs": [],
   "source": [
    "n = 4\n",
    "  \n",
    "def isSafe(x,y,board): \n",
    "    ''' \n",
    "        A utility function to check if i,j are valid indexes  \n",
    "        for N*N chessboard \n",
    "    '''\n",
    "    if(x >= 0 and y >= 0 and x < n and y < n and board[x][y] == -1): \n",
    "        return True\n",
    "    return False\n",
    "  \n",
    "def printSolution(n, board): \n",
    "    ''' \n",
    "        A utility function to print Chessboard matrix \n",
    "    '''\n",
    "    for i in range(n): \n",
    "        for j in range(n): \n",
    "            print(board[i][j],end =' ') \n",
    "        print() \n",
    "  \n",
    "  \n",
    "def solveKT(n): \n",
    "    ''' \n",
    "        This function solves the Knight Tour problem using  \n",
    "        Backtracking. This function mainly uses solveKTUtil()  \n",
    "        to solve the problem. It returns false if no complete  \n",
    "        tour is possible, otherwise return true and prints the  \n",
    "        tour.  \n",
    "        Please note that there may be more than one solutions,  \n",
    "        this function prints one of the feasible solutions. \n",
    "    '''\n",
    "      \n",
    "    # Initialization of Board matrix  \n",
    "    board = [[-1 for i in range(n)]for i in range(n)] \n",
    "      \n",
    "    # move_x and move_y define next move of Knight.  \n",
    "    # move_x is for next value of x coordinate  \n",
    "    # move_y is for next value of y coordinate \n",
    "    move_x = [2, 1, -1, -2, -2, -1, 1, 2] \n",
    "    move_y = [1, 2, 2, 1, -1, -2, -2, -1] \n",
    "      \n",
    "    # Since the Knight is initially at the first block \n",
    "    board[0][0] = 0\n",
    "      \n",
    "    # Step counter for knight's position \n",
    "    pos = 1\n",
    "      \n",
    "    # Checking if solution exists or not  \n",
    "    if(not solveKTUtil(n, board, 0, 0, move_x, move_y, pos)): \n",
    "        print(\"Solution does not exist\") \n",
    "    else: \n",
    "        printSolution(n, board) \n",
    "  \n",
    "def solveKTUtil(n,board,curr_x,curr_y,move_x,move_y,pos): \n",
    "    ''' \n",
    "        A recursive utility function to solve Knight Tour  \n",
    "        problem \n",
    "    '''\n",
    "      \n",
    "    if(pos == n**2): \n",
    "        return True\n",
    "      \n",
    "    # Try all next moves from the current coordinate x, y \n",
    "    for i in range(8): \n",
    "        new_x = curr_x + move_x[i] \n",
    "        new_y = curr_y + move_y[i] \n",
    "        if(isSafe(new_x,new_y,board)): \n",
    "            board[new_x][new_y] = pos \n",
    "            if(solveKTUtil(n,board,new_x,new_y,move_x,move_y,pos+1)): \n",
    "                return True\n",
    "              \n",
    "            # Backtracking \n",
    "            board[new_x][new_y] = -1\n",
    "    return False"
   ]
  },
  {
   "cell_type": "code",
   "execution_count": 157,
   "metadata": {},
   "outputs": [
    {
     "name": "stdout",
     "output_type": "stream",
     "text": [
      "Solution does not exist\n"
     ]
    }
   ],
   "source": [
    "solveKT(n)"
   ]
  }
 ],
 "metadata": {
  "kernelspec": {
   "display_name": "Python 3",
   "language": "python",
   "name": "python3"
  },
  "language_info": {
   "codemirror_mode": {
    "name": "ipython",
    "version": 3
   },
   "file_extension": ".py",
   "mimetype": "text/x-python",
   "name": "python",
   "nbconvert_exporter": "python",
   "pygments_lexer": "ipython3",
   "version": "3.6.5"
  }
 },
 "nbformat": 4,
 "nbformat_minor": 2
}
