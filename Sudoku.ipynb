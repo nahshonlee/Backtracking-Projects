{
 "cells": [
  {
   "cell_type": "code",
   "execution_count": 1,
   "metadata": {},
   "outputs": [],
   "source": [
    "board = [\n",
    "    [0, 0, 3, 0, 0, 0, 0, 9, 0],\n",
    "    [0, 0, 0, 0, 3, 0, 0, 0, 4],\n",
    "    [4, 0, 1, 6, 0, 0, 0, 0, 0],\n",
    "    [5, 0, 0, 4, 0, 0, 6, 0, 0],\n",
    "    [0, 0, 0, 0, 6, 0, 0, 0, 1],\n",
    "    [6, 0, 0, 0, 0, 8, 0, 0, 5],\n",
    "    [0, 0, 2, 0, 0, 1, 0, 8, 0],\n",
    "    [0, 0, 0, 0, 2, 0, 0, 7, 0],\n",
    "    [0, 3, 5, 0, 0, 0, 9, 0, 0],\n",
    "]"
   ]
  },
  {
   "cell_type": "code",
   "execution_count": 2,
   "metadata": {},
   "outputs": [
    {
     "name": "stdout",
     "output_type": "stream",
     "text": [
      "0 0 3  | 0 0 0  | 0 9 0\n",
      "0 0 0  | 0 3 0  | 0 0 4\n",
      "4 0 1  | 6 0 0  | 0 0 0\n",
      "- - - - - - - - - - - - \n",
      "5 0 0  | 4 0 0  | 6 0 0\n",
      "0 0 0  | 0 6 0  | 0 0 1\n",
      "6 0 0  | 0 0 8  | 0 0 5\n",
      "- - - - - - - - - - - - \n",
      "0 0 2  | 0 0 1  | 0 8 0\n",
      "0 0 0  | 0 2 0  | 0 7 0\n",
      "0 3 5  | 0 0 0  | 9 0 0\n"
     ]
    }
   ],
   "source": [
    "def print_sudoku(puzzle):\n",
    "    for i in range(len(puzzle)):\n",
    "        if i % 3 == 0 and i != 0: # rows\n",
    "            print('- - - - - - - - - - - - ') \n",
    "            \n",
    "        for j in range(len(puzzle[0])):\n",
    "            if j % 3 == 0 and j != 0:\n",
    "                print(' | ', end = \"\") # change default from end = '\\n'\n",
    "            \n",
    "            if j == 8:\n",
    "                print(puzzle[i][j])\n",
    "            else:\n",
    "                print(str(puzzle[i][j]) + ' ', end = '')\n",
    "        \n",
    "print_sudoku(board)"
   ]
  },
  {
   "cell_type": "code",
   "execution_count": 3,
   "metadata": {},
   "outputs": [
    {
     "data": {
      "text/plain": [
       "(0, 0)"
      ]
     },
     "execution_count": 3,
     "metadata": {},
     "output_type": "execute_result"
    }
   ],
   "source": [
    "# Function to find an empty square\n",
    "\n",
    "def find_empty_square(puzzle):\n",
    "    # We need to return the position of the empty square:\n",
    "    # That will be the element which we will be trying all the combinations\n",
    "    for i in range(len(puzzle)):\n",
    "        for j in range(len(puzzle[0])):\n",
    "            if puzzle[i][j] == 0:\n",
    "                return (i, j) # row, column\n",
    "            \n",
    "    return None\n",
    "\n",
    "find_empty_square(board)"
   ]
  },
  {
   "cell_type": "code",
   "execution_count": 4,
   "metadata": {},
   "outputs": [],
   "source": [
    "# Check if board is valid:\n",
    "# We need to check row, column, 3x3 square\n",
    "def check_valid(puzzle, number, position):\n",
    "    \n",
    "    # Check row\n",
    "    for i in range(len(puzzle[0])):\n",
    "        if puzzle[position[0]][i] == number and position[1] != i: \n",
    "        # pos[1] != i is to skip the column which we inserted the number\n",
    "            return False\n",
    "        \n",
    "    # Check column\n",
    "    for i in range(len(puzzle)):\n",
    "        if puzzle[i][position[1]] == number and position[0] != i: \n",
    "        # pos[1] != i is to skip the column which we placed the number\n",
    "            return False\n",
    "        \n",
    "    # Check 3x3 square i.e. if box_x = 1, box_y = 0: it is the top-centre box\n",
    "    box_x = position[1] // 3 # Column\n",
    "    box_y = position[0] // 3 # Row\n",
    "    \n",
    "    for i in range(box_y * 3, box_y * 3 + 3):\n",
    "        for j in range(box_x * 3, box_x * 3 + 3):\n",
    "            if puzzle[i][j] == number and (i, j) != position:\n",
    "                return False\n",
    "            \n",
    "    return True"
   ]
  },
  {
   "cell_type": "code",
   "execution_count": 5,
   "metadata": {},
   "outputs": [],
   "source": [
    "# Solve the puzzle by recursion. \n",
    "# Base case for recursion is that the puzzle is filled completely \n",
    "def solve_sudoku(puzzle):\n",
    "    empty = find_empty_square(puzzle)\n",
    "    if not empty: # i.e. this is the solution we are working towards\n",
    "        return True\n",
    "    else:\n",
    "        row, column = empty\n",
    "        \n",
    "    for i in range(1, 10):\n",
    "        # i is the number we are testing\n",
    "        # (row, column) is the position of the empty square\n",
    "        if check_valid(puzzle, i, (row, column)):\n",
    "            puzzle[row][column] = i\n",
    "            # if function returns True, then we insert i into the square\n",
    "            # At this juncture, the puzzle may have or have not been completed\n",
    "            # We will recursively solve the puzzle by calling solve on our new board\n",
    "            # i.e. after we add number 1 into the board, we will do the next cell\n",
    "            \n",
    "            if solve_sudoku(puzzle):\n",
    "                return True\n",
    "            \n",
    "            puzzle[row][column] = 0\n",
    "            \n",
    "    # If we looped through all the numbers and none of them return Valid\n",
    "    # if means that the number we added is not valid, and we will backtrack\n",
    "    # Hence we will reset the cell to 0\n",
    "    return False\n"
   ]
  },
  {
   "cell_type": "code",
   "execution_count": 6,
   "metadata": {},
   "outputs": [
    {
     "name": "stdout",
     "output_type": "stream",
     "text": [
      "0 0 3  | 0 0 0  | 0 9 0\n",
      "0 0 0  | 0 3 0  | 0 0 4\n",
      "4 0 1  | 6 0 0  | 0 0 0\n",
      "- - - - - - - - - - - - \n",
      "5 0 0  | 4 0 0  | 6 0 0\n",
      "0 0 0  | 0 6 0  | 0 0 1\n",
      "6 0 0  | 0 0 8  | 0 0 5\n",
      "- - - - - - - - - - - - \n",
      "0 0 2  | 0 0 1  | 0 8 0\n",
      "0 0 0  | 0 2 0  | 0 7 0\n",
      "0 3 5  | 0 0 0  | 9 0 0\n"
     ]
    }
   ],
   "source": [
    "print_sudoku(board)"
   ]
  },
  {
   "cell_type": "code",
   "execution_count": 7,
   "metadata": {},
   "outputs": [
    {
     "data": {
      "text/plain": [
       "True"
      ]
     },
     "execution_count": 7,
     "metadata": {},
     "output_type": "execute_result"
    }
   ],
   "source": [
    "solve_sudoku(board)"
   ]
  },
  {
   "cell_type": "code",
   "execution_count": 8,
   "metadata": {},
   "outputs": [
    {
     "name": "stdout",
     "output_type": "stream",
     "text": [
      "2 6 3  | 7 5 4  | 1 9 8\n",
      "8 5 7  | 1 3 9  | 2 6 4\n",
      "4 9 1  | 6 8 2  | 3 5 7\n",
      "- - - - - - - - - - - - \n",
      "5 7 8  | 4 1 3  | 6 2 9\n",
      "3 2 9  | 5 6 7  | 8 4 1\n",
      "6 1 4  | 2 9 8  | 7 3 5\n",
      "- - - - - - - - - - - - \n",
      "9 4 2  | 3 7 1  | 5 8 6\n",
      "1 8 6  | 9 2 5  | 4 7 3\n",
      "7 3 5  | 8 4 6  | 9 1 2\n"
     ]
    }
   ],
   "source": [
    "print_sudoku(board)"
   ]
  }
 ],
 "metadata": {
  "kernelspec": {
   "display_name": "Python 3",
   "language": "python",
   "name": "python3"
  },
  "language_info": {
   "codemirror_mode": {
    "name": "ipython",
    "version": 3
   },
   "file_extension": ".py",
   "mimetype": "text/x-python",
   "name": "python",
   "nbconvert_exporter": "python",
   "pygments_lexer": "ipython3",
   "version": "3.6.5"
  }
 },
 "nbformat": 4,
 "nbformat_minor": 2
}
