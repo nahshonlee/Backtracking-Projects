{
 "cells": [
  {
   "cell_type": "markdown",
   "metadata": {},
   "source": [
    "## Rat in a Maze\n",
    "Assumption: Rat can only move right or down. \n",
    "Extention of problems: the rat can move in all directions\n",
    "\n",
    "Letting r and c represent row and column respectively:"
   ]
  },
  {
   "cell_type": "code",
   "execution_count": 223,
   "metadata": {},
   "outputs": [
    {
     "name": "stdout",
     "output_type": "stream",
     "text": [
      "5 5\n"
     ]
    }
   ],
   "source": [
    "maze = [\n",
    "    [1, 0, 1, 0, 0],\n",
    "    [1, 1, 1, 1, 1],\n",
    "    [0, 1, 0, 1, 0],\n",
    "    [1, 1, 0, 1, 1],\n",
    "    [0, 1, 1, 0, 1]\n",
    "]\n",
    "\n",
    "start = (0, 0) # (r, c)\n",
    "end = (4, 1) # (r, c)\n",
    "\n",
    "# Getting dimensions of maze\n",
    "c = len(maze[0])\n",
    "r = len(maze)\n",
    "print(r, c)\n",
    "\n",
    "# Printing solution matrix:\n",
    "solution = [[0 for i in range(c)] for i in range(r)]"
   ]
  },
  {
   "cell_type": "code",
   "execution_count": 219,
   "metadata": {},
   "outputs": [],
   "source": [
    "def print_maze(maze):\n",
    "    for i in range(r):\n",
    "        for j in range(c):\n",
    "            if j == c - 1:\n",
    "                print(maze[i][j])\n",
    "            else:\n",
    "                print(str(maze[i][j]) + ' ', end = '')"
   ]
  },
  {
   "cell_type": "code",
   "execution_count": 220,
   "metadata": {},
   "outputs": [
    {
     "name": "stdout",
     "output_type": "stream",
     "text": [
      "1 0 1 0 0\n",
      "1 1 1 1 1\n",
      "0 1 0 1 0\n",
      "1 1 0 1 1\n",
      "0 1 1 0 1\n",
      "\n",
      "0 0 0 0 0\n",
      "0 0 0 0 0\n",
      "0 0 0 0 0\n",
      "0 0 0 0 0\n",
      "0 0 0 0 0\n"
     ]
    }
   ],
   "source": [
    "print_maze(maze)\n",
    "print()\n",
    "print_maze(solution)"
   ]
  },
  {
   "cell_type": "code",
   "execution_count": 221,
   "metadata": {},
   "outputs": [],
   "source": [
    "def valid_move(maze, new_r, new_c):\n",
    "    if new_r >= 0 and new_c >= 0 and new_r < r and new_c < c and maze[new_r][new_c] == 1:\n",
    "        return True"
   ]
  },
  {
   "cell_type": "code",
   "execution_count": 224,
   "metadata": {},
   "outputs": [],
   "source": [
    "def solve_ratmaze(maze, solution, start, end):\n",
    "    curr_r, curr_c = start\n",
    "    end_r, end_c = end\n",
    "    if curr_c == end_c and curr_r == end_r:\n",
    "        solution[curr_r][curr_c] = 1\n",
    "        print_maze(solution)\n",
    "        return True\n",
    "    \n",
    "    if valid_move(maze, curr_r, curr_c):\n",
    "        solution[curr_r][curr_c] = 1\n",
    "        if solve_ratmaze(maze, solution, (curr_r + 1, curr_c), end):\n",
    "            return True\n",
    "        \n",
    "        if solve_ratmaze(maze, solution, (curr_r, curr_c + 1), end):\n",
    "            return True\n",
    "        \n",
    "        solution[curr_r][curr_c] = 0\n",
    "        \n",
    "    return False"
   ]
  },
  {
   "cell_type": "code",
   "execution_count": 225,
   "metadata": {},
   "outputs": [
    {
     "name": "stdout",
     "output_type": "stream",
     "text": [
      "1 0 0 0 0\n",
      "1 1 0 0 0\n",
      "0 1 0 0 0\n",
      "0 1 0 0 0\n",
      "0 1 0 0 0\n"
     ]
    },
    {
     "data": {
      "text/plain": [
       "True"
      ]
     },
     "execution_count": 225,
     "metadata": {},
     "output_type": "execute_result"
    }
   ],
   "source": [
    "solve_ratmaze(maze, solution, start, end)"
   ]
  },
  {
   "cell_type": "markdown",
   "metadata": {},
   "source": [
    "## All directions:\n",
    "\n",
    "Very simple. When checking if it is a valid move, we have to add an additional constraint. We do not want to go back to the direction which we came from. Hence, we use solution[curr_r][curr_c] == 0 to confirm that the next step that we are going has not been visited before"
   ]
  },
  {
   "cell_type": "code",
   "execution_count": 208,
   "metadata": {},
   "outputs": [],
   "source": [
    "def solve_ratmaze(maze, solution, start, end):\n",
    "    curr_r, curr_c = start\n",
    "    end_r, end_c = end\n",
    "    if curr_c == end_c and curr_r == end_r:\n",
    "        solution[curr_r][curr_c] = 1\n",
    "        print_maze(solution)\n",
    "        return True\n",
    "    \n",
    "    if valid_move(maze, curr_r, curr_c) and solution[curr_r][curr_c] =s= 0:\n",
    "        solution[curr_r][curr_c] = 1\n",
    "        if solve_ratmaze(maze, solution, (curr_r + 1, curr_c), end): # Move downwards\n",
    "            return True\n",
    "        \n",
    "        if solve_ratmaze(maze, solution, (curr_r - 1, curr_c), end): # Move upwards\n",
    "            return True\n",
    "        \n",
    "        if solve_ratmaze(maze, solution, (curr_r, curr_c + 1), end): # Move right\n",
    "            return True\n",
    "        \n",
    "        if solve_ratmaze(maze, solution, (curr_r, curr_c - 1), end): # Move left\n",
    "            return True\n",
    "        \n",
    "        # Backtracking if all direction returns False. i.e. all movements from the current spot will lead nowhere\n",
    "        solution[curr_r][curr_c] = 0\n",
    "        \n",
    "    return False"
   ]
  }
 ],
 "metadata": {
  "kernelspec": {
   "display_name": "Python 3",
   "language": "python",
   "name": "python3"
  },
  "language_info": {
   "codemirror_mode": {
    "name": "ipython",
    "version": 3
   },
   "file_extension": ".py",
   "mimetype": "text/x-python",
   "name": "python",
   "nbconvert_exporter": "python",
   "pygments_lexer": "ipython3",
   "version": "3.6.5"
  }
 },
 "nbformat": 4,
 "nbformat_minor": 2
}
